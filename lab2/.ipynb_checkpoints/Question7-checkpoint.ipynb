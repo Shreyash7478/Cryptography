{
 "cells": [
  {
   "cell_type": "code",
   "execution_count": 3,
   "metadata": {},
   "outputs": [
    {
     "name": "stdout",
     "output_type": "stream",
     "text": [
      "{'zi': 15, 'io': 2, 'ol': 4, 'le': 1, 'eg': 8, 'gx': 5, 'xk': 9, 'kl': 5, 'lt': 13, 'tq': 5, 'qo': 2, 'od': 1, 'dl': 3, 'lz': 2, 'zg': 6, 'go': 1, 'of': 17, 'fz': 7, 'zk': 2, 'kg': 5, 'gr': 2, 'rx': 2, 'xe': 2, 'et': 2, 'tn': 2, 'ng': 4, 'xz': 4, 'gz': 5, 'it': 9, 'th': 1, 'hk': 4, 'ko': 7, 'fe': 3, 'eo': 2, 'oh': 2, 'hs': 4, 'st': 3, 'tl': 6, 'lq': 9, 'qf': 9, 'fr': 10, 'rz': 2, 'zt': 7, 'te': 12, 'ei': 1, 'if': 1, 'fo': 3, 'oj': 1, 'jx': 1, 'xt': 1, 'lg': 4, 'gy': 4, 'yl': 1, 'ex': 7, 'fu': 7, 'ue': 1, 'gd': 3, 'dh': 3, 'hx': 4, 'tk': 6, 're': 1, 'kf': 5, 'ft': 7, 'tz': 10, 'zv': 5, 'vg': 6, 'gk': 10, 'ka': 5, 'al': 3, 'lv': 4, 'vo': 3, 'oz': 8, 'iy': 1, 'yg': 1, 'ge': 3, 'xl': 2, 'gf': 3, 'zl': 5, 'zn': 3, 'nz': 1, 'to': 2, 'ty': 1, 'yy': 1, 'yt': 1, 'ez': 2, 'zo': 5, 'oc': 1, 'ct': 2, 'ts': 5, 'sn': 1, 'nl': 1, 'lh': 2, 'so': 4, 'gh': 3, 'hq': 1, 'qk': 3, 'kz': 1, 'ly': 2, 'yo': 2, 'ok': 3, 'uz': 1, 'tg': 3, 'kn': 3, 'ye': 2, 'ek': 1, 'nh': 2, 'hz': 1, 'gu': 1, 'uk': 1, 'kq': 3, 'qh': 3, 'hi': 1, 'in': 1, 'no': 2, 'es': 2, 'sx': 1, 'xr': 1, 'ro': 5, 'ui': 1, 'ig': 2, 'gv': 3, 'vd': 1, 'dq': 1, 'fn': 1, 'ne': 1, 'sq': 6, 'ql': 6, 'll': 1, 'lo': 3, 'oe': 3, 'eq': 3, 'qs': 7, 'rh': 2, 'hg': 1, 'xs': 1, 'su': 2, 'ug': 2, 'id': 2, 'at': 1, 'tu': 2, 'ur': 2, 'rt': 4, 'lk': 1, 'qr': 1, 'ou': 3, 'uo': 2, 'zq': 2, 'sl': 5, 'uf': 2, 'fq': 1, 'qz': 4, 'zx': 1, 'kt': 7, 'rl': 1, 'gc': 1, 'co': 2, 'or': 1, 'os': 4, 'yk': 1, 'gs': 2, 'ik': 1, 'hl': 1, 'ec': 1, 'kx': 1, 'tv': 2, 'vq': 1, 'ss': 6, 'li': 2, 'tf': 2, 'xv': 1, 'fw': 1, 'wg': 1, 'iz': 1, 'ht': 1, 'rf': 2, 'nq': 1, 'vt': 2, 'vz': 1, 'iq': 1, 'zz': 2, 'hh': 2, 'ot': 1, 'tr': 2, 'la': 1, 'af': 1, 'fg': 1, 'vs': 1, 'ru': 1, 'ut': 1, 'si': 1, 'sh': 1, 'hn': 1, 'xo': 2, 'uq': 1, 'rr': 1, 'tc': 1, 'sg': 1, 'ho': 1, 'ul': 2, 'og': 1, 'fl': 1, 'ah': 1, 'lw': 1, 'wx': 1, 'sr': 1}\n"
     ]
    }
   ],
   "source": [
    "def additiveCipher(input_string, key):\n",
    "    input_string = input_string.lower()\n",
    "    output_string = \"\"\n",
    "    for i in input_string:\n",
    "        if i == ' ':\n",
    "            output_string += ' '\n",
    "        else:\n",
    "            output_string += chr(((ord(i)+key-97)%26)+97)\n",
    "\n",
    "    return output_string\n",
    "\n",
    "if __name__ == \"__main__\":\n",
    "    input_string = \"ziolegxkltqodlzgofzkgrxetngxzgzithkofeohstlqfrzteifojxtlgyltexkofuegdhxztklqfregdhxztkftzvgkalvoziygexlgfofztkftzltexkoznzitegxkltoltyytezoctsnlhsozofzgzvghqkzlyoklzofzkgrxeofuzitzitgkngyeknhzgukqhinofesxrofuigvdqfnesqlloeqsqfrhghxsqkqsugkozidlvgkaturtlklqrouozqsloufqzxktlqfrltegfrhkgcorofurtzqoslgyktqsofztkftzltexkoznhkgzgegslqsugkozidlqfrziktqzltuohltecokxltlyoktvqsslitfetngxvossstqkfwgzizitgktzoeqsqlhtezlgyegdhxztkqfrftzvgkaltexkoznqlvtssqligvziqzzitgknolqhhsotrofzitofztkftzziolafgvstrutvossitshngxofrtloufofuqfrrtctsghofultexktqhhsoeqzogflqfrftzvgkahkgzgegslqlvtssqlwxosrofultexktftzvgkal\"\n",
    "    pairs = dict()\n",
    "    length = len(input_string)\n",
    "    for i in range(0,length-1):\n",
    "        pair = input_string[i:i+2]\n",
    "        if pair in pairs:\n",
    "            pairs[pair]+=1\n",
    "        else:\n",
    "            pairs[pair] = 1\n",
    "    \n",
    "    print(pairs)\n",
    "    \n",
    "        \n",
    "\n",
    "\n",
    "    "
   ]
  },
  {
   "cell_type": "code",
   "execution_count": null,
   "metadata": {},
   "outputs": [],
   "source": []
  }
 ],
 "metadata": {
  "kernelspec": {
   "display_name": "Python 3",
   "language": "python",
   "name": "python3"
  },
  "language_info": {
   "codemirror_mode": {
    "name": "ipython",
    "version": 3
   },
   "file_extension": ".py",
   "mimetype": "text/x-python",
   "name": "python",
   "nbconvert_exporter": "python",
   "pygments_lexer": "ipython3",
   "version": "3.7.3"
  }
 },
 "nbformat": 4,
 "nbformat_minor": 2
}
